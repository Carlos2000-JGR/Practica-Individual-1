{
  "nbformat": 4,
  "nbformat_minor": 0,
  "metadata": {
    "colab": {
      "provenance": [],
      "include_colab_link": true
    },
    "kernelspec": {
      "name": "python3",
      "display_name": "Python 3"
    },
    "language_info": {
      "name": "python"
    }
  },
  "cells": [
    {
      "cell_type": "markdown",
      "metadata": {
        "id": "view-in-github",
        "colab_type": "text"
      },
      "source": [
        "<a href=\"https://colab.research.google.com/github/Carlos2000-JGR/Practica-Individual-1/blob/main/Lab_Inteligenia_Artificial_Diego_Javier_1087228.ipynb\" target=\"_parent\"><img src=\"https://colab.research.google.com/assets/colab-badge.svg\" alt=\"Open In Colab\"/></a>"
      ]
    },
    {
      "cell_type": "markdown",
      "metadata": {
        "id": "FuA2DkIf5Yt4"
      },
      "source": [
        "1.Write a Python program to print the following string in a specific format (see the output).  Sample String : \"Twinkle, twinkle, little star, How I wonder what you are! Up above the world so high, Like a diamond in the sky. Twinkle, twinkle, little star, How I wonder what you are\" Output : "
      ]
    },
    {
      "cell_type": "code",
      "source": [
        "from google.colab import drive\n",
        "drive.mount('/content/drive')"
      ],
      "metadata": {
        "id": "gK7fIb-R2u8f"
      },
      "execution_count": null,
      "outputs": []
    },
    {
      "cell_type": "code",
      "metadata": {
        "colab": {
          "base_uri": "https://localhost:8080/"
        },
        "id": "8vdf1x9qzR2t",
        "outputId": "17e23fcc-cd80-41cd-c8ea-cac5bd2e2088"
      },
      "source": [
        "print(\"Twinkle, twinkle, little star,\\n\\ta.How I wonder what you are!\\n\\t\\ti.Up above the world so high,\\n\\t\\tii.Like a diamond in the sky.\\nTwinkle, twinkle, little star,\\n\\tb.How I wonder what you are\")"
      ],
      "execution_count": null,
      "outputs": [
        {
          "output_type": "stream",
          "name": "stdout",
          "text": [
            "Twinkle, twinkle, little star,\n",
            "\ta.How I wonder what you are!\n",
            "\t\ti.Up above the world so high,\n",
            "\t\tii.Like a diamond in the sky.\n",
            "Twinkle, twinkle, little star,\n",
            "\tb.How I wonder what you are\n"
          ]
        }
      ]
    },
    {
      "cell_type": "markdown",
      "metadata": {
        "id": "wqx_v28B5xVu"
      },
      "source": [
        "2.Write a Python program to get the Python version you are using."
      ]
    },
    {
      "cell_type": "code",
      "metadata": {
        "colab": {
          "base_uri": "https://localhost:8080/"
        },
        "id": "FRBwcOXt51_4",
        "outputId": "e045db33-421c-47a0-e275-b272b1149e80"
      },
      "source": [
        "import sys\n",
        "print(sys.version)"
      ],
      "execution_count": null,
      "outputs": [
        {
          "output_type": "stream",
          "name": "stdout",
          "text": [
            "3.7.15 (default, Oct 12 2022, 19:14:55) \n",
            "[GCC 7.5.0]\n"
          ]
        }
      ]
    },
    {
      "cell_type": "markdown",
      "metadata": {
        "id": "0ixQPVfwIBzi"
      },
      "source": [
        "3.Write a Python program to display the current date and time.\n",
        "Sample Output :\n",
        "Current date and time :\n",
        "2014-07-05 14:34:14"
      ]
    },
    {
      "cell_type": "code",
      "metadata": {
        "colab": {
          "base_uri": "https://localhost:8080/"
        },
        "id": "BQrjEs_XIGK-",
        "outputId": "742b5f69-fa5c-4982-9e5e-e88ed4d354c8"
      },
      "source": [
        "from datetime import datetime\n",
        "hoy = datetime.now()\n",
        "\n",
        "hoy_string = hoy.strftime(\"%d/%m/%Y %H:%M:%S\")\n",
        "print(hoy_string)"
      ],
      "execution_count": null,
      "outputs": [
        {
          "output_type": "stream",
          "name": "stdout",
          "text": [
            "23/11/2022 16:09:23\n"
          ]
        }
      ]
    },
    {
      "cell_type": "markdown",
      "metadata": {
        "id": "uWV9OFD3KIoB"
      },
      "source": [
        "\n",
        "4.Write a Python function which accepts the radius of a circle from the user and compute the area. \n",
        "Sample Output :\n",
        "r = 1.1\n",
        "Area = 3.8013271108436504\n"
      ]
    },
    {
      "cell_type": "code",
      "metadata": {
        "colab": {
          "base_uri": "https://localhost:8080/"
        },
        "id": "vya72Ff9LBHM",
        "outputId": "97716e39-4214-429b-9f11-6d10957469c4"
      },
      "source": [
        "import math\n",
        "radio = float(input(\"Introduzca el area del circulo:\"))\n",
        "area = math.pi * pow(radio, 2)\n",
        "print(area)"
      ],
      "execution_count": null,
      "outputs": [
        {
          "output_type": "stream",
          "name": "stdout",
          "text": [
            "Introduzca el area del circulo:1.1\n",
            "3.8013271108436504\n"
          ]
        }
      ]
    },
    {
      "cell_type": "markdown",
      "metadata": {
        "id": "nJXbXYp-SSHa"
      },
      "source": [
        " 5.Write a Python program which accepts the user's first and last name and print them in reverse order with a space between them."
      ]
    },
    {
      "cell_type": "code",
      "metadata": {
        "colab": {
          "base_uri": "https://localhost:8080/"
        },
        "id": "iD-4aCFATksb",
        "outputId": "0daed4c1-253c-438d-a209-2cfcc178a04f"
      },
      "source": [
        "st = input(\"introduzca el string: \")\n",
        "stringlength=len(st)\n",
        "slicedString=st[stringlength::-1] \n",
        "print(slicedString)"
      ],
      "execution_count": null,
      "outputs": [
        {
          "output_type": "stream",
          "name": "stdout",
          "text": [
            "introduzca el string: diego javier\n",
            "reivaj ogeid\n"
          ]
        }
      ]
    },
    {
      "cell_type": "markdown",
      "metadata": {
        "id": "XrsdKc7pbY4G"
      },
      "source": [
        "6.Write a Python program which accepts a sequence of comma-separated numbers from user and generate a list and a tuple with those numbers.  Sample data : 3, 5, 7, 23\n",
        "Output :\n",
        "List : ['3', ' 5', ' 7', ' 23']\n",
        "Tuple : ('3', ' 5', ' 7', ' 23')"
      ]
    },
    {
      "cell_type": "code",
      "metadata": {
        "colab": {
          "base_uri": "https://localhost:8080/"
        },
        "id": "HMmUJZp0bgdn",
        "outputId": "f530ca70-25a5-427f-afcb-9c525925f368"
      },
      "source": [
        "secuencia6 = input(\"Introduzca la secuencia: \")\n",
        "lista = secuencia6.split(\",\")\n",
        "tuple = tuple(lista)\n",
        "print(\"List: \",lista, \"\\nTuple: \",tuple)"
      ],
      "execution_count": null,
      "outputs": [
        {
          "output_type": "stream",
          "name": "stdout",
          "text": [
            "Introduzca la secuencia: 3, 5, 7, 23\n",
            "List:  ['3', ' 5', ' 7', ' 23'] \n",
            "Tuple:  ('3', ' 5', ' 7', ' 23')\n"
          ]
        }
      ]
    },
    {
      "cell_type": "markdown",
      "metadata": {
        "id": "QAaZP29_fzoV"
      },
      "source": [
        "7.Write a Python function to accept a filename from the user and print the extension of that.  Sample filename : abc.java\n",
        "Output : java\n"
      ]
    },
    {
      "cell_type": "code",
      "metadata": {
        "colab": {
          "base_uri": "https://localhost:8080/"
        },
        "id": "j2PIsS33f6q2",
        "outputId": "43f448c6-8ff0-47b8-dbe8-a6f632b64956"
      },
      "source": [
        "text1 = \"/content/abc.txt\"\n",
        "file1 = open(text1, \"r\")\n",
        "filecontent = file1.read()\n",
        "print(filecontent)\n"
      ],
      "execution_count": null,
      "outputs": [
        {
          "output_type": "stream",
          "name": "stdout",
          "text": [
            "java\n"
          ]
        }
      ]
    },
    {
      "cell_type": "markdown",
      "metadata": {
        "id": "Ijud1CVdpFmN"
      },
      "source": [
        "8.Write a function that returns the maximum of a tuple or array numbers."
      ]
    },
    {
      "cell_type": "code",
      "metadata": {
        "colab": {
          "base_uri": "https://localhost:8080/"
        },
        "id": "BvPgvXIN2sFI",
        "outputId": "c63ba83c-1d9f-4e6e-bf1b-2cf622db00f6"
      },
      "source": [
        "import numpy as np\n",
        "def secuencias():\n",
        "  Nuevasecuencia = []\n",
        "  iteracion = int(input(\"introduzca la cantidad de valores del array: \"))\n",
        "  for x in range(iteracion):\n",
        "    nuevoValor = float(input(\"ingrese los valores: \"))\n",
        "    Nuevasecuencia.append(nuevoValor)\n",
        "  return np.amax(Nuevasecuencia)\n",
        "\n",
        "\n",
        "print(\"El numero mas grande es: \", secuencias())"
      ],
      "execution_count": null,
      "outputs": [
        {
          "output_type": "stream",
          "name": "stdout",
          "text": [
            "introduzca la cantidad de valores del array: 3\n",
            "ingrese los valores: 3\n",
            "ingrese los valores: 78\n",
            "ingrese los valores: 24\n",
            "El numero mas grande es:  78.0\n"
          ]
        }
      ]
    },
    {
      "cell_type": "markdown",
      "metadata": {
        "id": "KfzYo2QTqiYz"
      },
      "source": [
        "9.Write a function called fizz_buzz that takes a number.\n",
        "If the number is divisible by 3, it should return “Fizz”.\n",
        "If it is divisible by 5, it should return “Buzz”.\n",
        "If it is divisible by both 3 and 5, it should return “FizzBuzz”.\n",
        "Otherwise, it should return the same number.\n"
      ]
    },
    {
      "cell_type": "code",
      "metadata": {
        "colab": {
          "base_uri": "https://localhost:8080/"
        },
        "id": "wnJR2ZLE1VYA",
        "outputId": "302a82ae-84f6-4859-d5e7-6568edeb1f71"
      },
      "source": [
        "def fizz_buzz(numero):\n",
        "    if(numero %3 == 0 and numero %5 == 0):\n",
        "      print(\"fizz buzz\")\n",
        "    elif(numero %3 == 0):\n",
        "      print(\"fizz\")\n",
        "    elif(numero %5 == 0):\n",
        "      print(\"buzz\")\n",
        "    else:\n",
        "      print(numero)\n",
        "\n",
        "Number = int(input(\"introduzca el valor: \"))\n",
        "fizz_buzz(Number)"
      ],
      "execution_count": null,
      "outputs": [
        {
          "output_type": "stream",
          "name": "stdout",
          "text": [
            "introduzca el valor: 15\n",
            "fizz buzz\n"
          ]
        }
      ]
    },
    {
      "cell_type": "markdown",
      "metadata": {
        "id": "mGBzKtnK6JjU"
      },
      "source": [
        "10.Write a function for checking the speed of drivers. This function should have one parameter: speed.\n",
        "If speed is less than 70, it should print “Ok”.\n",
        "Otherwise, for every 5km above the speed limit (70), it should give the driver one demerit point and print the total number of demerit points. For example, if the speed is 80, it should print: “Points: 2”.\n",
        "If the driver gets more than 12 points, the function should print: “License suspended”\n"
      ]
    },
    {
      "cell_type": "code",
      "metadata": {
        "colab": {
          "base_uri": "https://localhost:8080/"
        },
        "id": "HNQmDAxP6M-A",
        "outputId": "6c63a02b-46a6-4a5a-dda7-5b38eebce99d"
      },
      "source": [
        "def police(speed):\n",
        "  if(speed <= 70):\n",
        "    print(\"Ok.\")\n",
        "  else:\n",
        "    points = math.floor((speed - 70)/5)\n",
        "    if(points < 12):\n",
        "       print(\"Points: \" ,points)\n",
        "    else:\n",
        "       print(\"License suspended\")\n",
        "\n",
        "\n",
        "Speed = int(input(\"velocidad actual del vehiculo en km/s: \"))\n",
        "police(Speed)\n"
      ],
      "execution_count": null,
      "outputs": [
        {
          "output_type": "stream",
          "name": "stdout",
          "text": [
            "velocidad actual del vehiculo en km/s: 83\n",
            "Points:  2\n"
          ]
        }
      ]
    },
    {
      "cell_type": "markdown",
      "metadata": {
        "id": "r6g17ntj95lD"
      },
      "source": [
        "11. Write a function called showNumbers that takes a parameter called limit. It should print all the numbers between 0 and limit with a label to identify the even and odd numbers. For example, if the limit is 3, it should print:\n",
        "0 EVEN\n",
        "1 ODD\n",
        "2 EVEN\n",
        "3 ODD\n",
        "\n"
      ]
    },
    {
      "cell_type": "code",
      "metadata": {
        "colab": {
          "base_uri": "https://localhost:8080/"
        },
        "id": "7yxWqoqC99hI",
        "outputId": "bb4d8f0d-0101-40d5-b984-1bf8888bcacf"
      },
      "source": [
        "def showNumbers(limit):\n",
        "  for x in range(limit + 1):\n",
        "    if(x%2 == 0):\n",
        "      print(x, \"EVEN\")\n",
        "    else:\n",
        "      print(x, \"ODD\")\n",
        "\n",
        "\n",
        "\n",
        "\n",
        "limite = int(input(\"Introduzca el valor: \"))\n",
        "showNumbers(limite)"
      ],
      "execution_count": null,
      "outputs": [
        {
          "output_type": "stream",
          "name": "stdout",
          "text": [
            "Introduzca el valor: 5\n",
            "0 EVEN\n",
            "1 ODD\n",
            "2 EVEN\n",
            "3 ODD\n",
            "4 EVEN\n",
            "5 ODD\n"
          ]
        }
      ]
    },
    {
      "cell_type": "markdown",
      "metadata": {
        "id": "m_9vYf4PKD_4"
      },
      "source": [
        "12. Write a function that returns the sum of multiples of 3 and 5 between 0 and limit (parameter). For example, if limit is 20, it should return the sum of 3, 5, 6, 9, 10, 12, 15, 18, 20.\n"
      ]
    },
    {
      "cell_type": "code",
      "metadata": {
        "colab": {
          "base_uri": "https://localhost:8080/"
        },
        "id": "8K7l6L6aKHse",
        "outputId": "03ea9c35-700a-483a-88e7-37a84407b714"
      },
      "source": [
        " def calculate_sum(limit):\n",
        "    total = 0\n",
        "    for i in range(limit + 1):\n",
        "        if(i %3 == 0 or i %5 == 0):\n",
        "           total = total + i\n",
        "        i = i + i\n",
        "    return total\n",
        "\n",
        "limit = int(input(\"introduzca el valor: \"))\n",
        "print(\"Total sum: \" + str(calculate_sum(limit)))"
      ],
      "execution_count": null,
      "outputs": [
        {
          "output_type": "stream",
          "name": "stdout",
          "text": [
            "introduzca el valor: 20\n",
            "Total sum: 98\n"
          ]
        }
      ]
    },
    {
      "cell_type": "markdown",
      "metadata": {
        "id": "y8lp0uRSRlRo"
      },
      "source": [
        "13. Write a function called show_stars(rows). If rows is 5, it should print the following:\n",
        "*\n",
        "**\n",
        "***\n",
        "****\n",
        "*****\n"
      ]
    },
    {
      "cell_type": "code",
      "metadata": {
        "colab": {
          "base_uri": "https://localhost:8080/"
        },
        "id": "z_RsncLcRuEq",
        "outputId": "f8ca67db-8f2f-4235-9779-6b323dec0e39"
      },
      "source": [
        "def show_stars(rows):\n",
        "  star = \"*\"\n",
        "  for x in range(rows):\n",
        "    print(star)\n",
        "    star = star + \"*\"\n",
        "\n",
        "row = int(input(\"introduzca el valor: \"))\n",
        "show_stars(row)"
      ],
      "execution_count": null,
      "outputs": [
        {
          "output_type": "stream",
          "name": "stdout",
          "text": [
            "introduzca el valor: 5\n",
            "*\n",
            "**\n",
            "***\n",
            "****\n",
            "*****\n"
          ]
        }
      ]
    },
    {
      "cell_type": "markdown",
      "metadata": {
        "id": "fBMQkifVS8xl"
      },
      "source": [
        "14.Write a function that prints all the prime numbers between 0 and limit where limit is a parameter."
      ]
    },
    {
      "cell_type": "code",
      "metadata": {
        "colab": {
          "base_uri": "https://localhost:8080/"
        },
        "id": "L3rqiM6GS_-s",
        "outputId": "71656ece-2936-41cc-ac8d-abe90c0ef389"
      },
      "source": [
        "def prime(limit):\n",
        "   primeso = []\n",
        "   for n in range(2, limit):\n",
        "      for i in range (2, limit+1):\n",
        "         for j in range(2, i):\n",
        "             if i%j == 0:\n",
        "                 break\n",
        "         else:\n",
        "             primeso.append(i)\n",
        "   print(primeso)\n",
        "\n",
        "\n",
        "primo = int(input(\"introduzca el valor: \"))\n",
        "prime(primo)"
      ],
      "execution_count": null,
      "outputs": [
        {
          "output_type": "stream",
          "name": "stdout",
          "text": [
            "introduzca el valor: 10\n",
            "[2, 3, 5, 7, 2, 3, 5, 7, 2, 3, 5, 7, 2, 3, 5, 7, 2, 3, 5, 7, 2, 3, 5, 7, 2, 3, 5, 7, 2, 3, 5, 7]\n"
          ]
        }
      ]
    },
    {
      "cell_type": "markdown",
      "metadata": {
        "id": "O_mWbLrNVzoa"
      },
      "source": [
        "15 .Write a Python program to print all even numbers from a given numbers list in the same order and stop the printing if any numbers that come after 237 in the sequence.  "
      ]
    },
    {
      "cell_type": "code",
      "metadata": {
        "colab": {
          "base_uri": "https://localhost:8080/"
        },
        "id": "I6eF7wKAV5Pu",
        "outputId": "c04a8290-e07e-46e0-e6a9-a857e08a756d"
      },
      "source": [
        "numbers = [    \n",
        "     386, 462, 47, 418, 907, 344, 236, 375, 823, 566, 597, 978, 328, 615, 953, 345, \n",
        "     399, 162, 758, 219, 918, 237, 412, 566, 826, 248, 866, 950, 626, 949, 687, 217, \n",
        "     815, 67, 104, 58, 512, 24, 892, 894, 767, 553, 81, 379, 843, 831, 445, 742, 717, \n",
        "     958,743, 527\n",
        "     ]\n",
        "\n",
        "for x in numbers:\n",
        "     if x == 237:\n",
        "         print(x)\n",
        "         break;\n",
        "     elif x % 2 == 0:\n",
        "         print(x)"
      ],
      "execution_count": null,
      "outputs": [
        {
          "output_type": "stream",
          "name": "stdout",
          "text": [
            "386\n",
            "462\n",
            "418\n",
            "344\n",
            "236\n",
            "566\n",
            "978\n",
            "328\n",
            "162\n",
            "758\n",
            "918\n",
            "237\n"
          ]
        }
      ]
    },
    {
      "cell_type": "markdown",
      "metadata": {
        "id": "hIQXSG7LWXfW"
      },
      "source": [
        "16. Write a Python program that will accept the base and height of a triangle and compute the area. \n"
      ]
    },
    {
      "cell_type": "code",
      "metadata": {
        "colab": {
          "base_uri": "https://localhost:8080/"
        },
        "id": "pZkRaqi1WaMt",
        "outputId": "07dc708b-1e23-4167-e5b6-b53c8fa1e4b4"
      },
      "source": [
        "base = int(input(\"introduzca la base: \"))\n",
        "altura = int(input(\"introduzca la altura: \"))\n",
        "area = (base * altura)/2\n",
        "print(\"el area es de \", area)"
      ],
      "execution_count": null,
      "outputs": [
        {
          "output_type": "stream",
          "name": "stdout",
          "text": [
            "introduzca la base: 5\n",
            "introduzca la altura: 10\n",
            "el area es de  25.0\n"
          ]
        }
      ]
    },
    {
      "cell_type": "markdown",
      "metadata": {
        "id": "8QUlAbb3XAns"
      },
      "source": [
        "17.Write a Python program to compute the greatest common divisor (GCD) of two positive integers. \n"
      ]
    },
    {
      "cell_type": "code",
      "metadata": {
        "colab": {
          "base_uri": "https://localhost:8080/"
        },
        "id": "reVItUgPXE-3",
        "outputId": "ad8416a9-389a-43dd-e4f4-2268a4239116"
      },
      "source": [
        "def gcd(x, y):\n",
        "   gcd = 1   \n",
        "   if x % y == 0:\n",
        "       return y   \n",
        "   for k in range(int(y / 2), 0, -1):\n",
        "      if x % k == 0 and y % k == 0:\n",
        "          gcd = k\n",
        "          break \n",
        "   return gcd\n",
        "\n",
        "primervalor = int(input(\"introduzca el valor 1:\"))\n",
        "segundovalor = int(input(\"introduzca el valor 2:\"))\n",
        "print(\"GCD es =\",gcd(primervalor, segundovalor))"
      ],
      "execution_count": null,
      "outputs": [
        {
          "output_type": "stream",
          "name": "stdout",
          "text": [
            "introduzca el valor 1:2\n",
            "introduzca el valor 2:40\n",
            "GCD es = 2\n"
          ]
        }
      ]
    },
    {
      "cell_type": "markdown",
      "metadata": {
        "id": "swUpy2r9YTXB"
      },
      "source": [
        "18.Write a Python program to get the least common multiple (LCM) of two positive integers.\n"
      ]
    },
    {
      "cell_type": "code",
      "metadata": {
        "colab": {
          "base_uri": "https://localhost:8080/"
        },
        "id": "vnOhI68FYWF-",
        "outputId": "4bac60b6-6147-4d84-a06f-c9d713eb0050"
      },
      "source": [
        "def lcm(x, y):\n",
        "  if x > y:\n",
        "      z = x\n",
        "  else:\n",
        "      z = y\n",
        "  while(True):\n",
        "      if((z % x == 0) and (z % y == 0)):\n",
        "          lcm = z\n",
        "          break\n",
        "      z += 1\n",
        "  return lcm\n",
        "\n",
        "primervalor = int(input(\"introduzca el valor 1:\"))\n",
        "segundovalor = int(input(\"introduzca el valor 2:\"))\n",
        "print(\"LCM es: \", lcm(primervalor, segundovalor))"
      ],
      "execution_count": null,
      "outputs": [
        {
          "output_type": "stream",
          "name": "stdout",
          "text": [
            "introduzca el valor 1:4\n",
            "introduzca el valor 2:6\n",
            "LCM es:  12\n"
          ]
        }
      ]
    },
    {
      "cell_type": "markdown",
      "metadata": {
        "id": "yoCTco2mYuQ8"
      },
      "source": [
        "19.Write a Python program to sum of three given integers. However, if two values are equal sum will be zero.\n"
      ]
    },
    {
      "cell_type": "code",
      "metadata": {
        "colab": {
          "base_uri": "https://localhost:8080/"
        },
        "id": "8bU1Ev3zYwxJ",
        "outputId": "df55890c-4a1e-4107-83d7-7661e166baab"
      },
      "source": [
        "def sum(x, y, z):\n",
        "    if x == y or y == z or x==z:\n",
        "        sum = 0\n",
        "    else:\n",
        "        sum = x + y + z\n",
        "    return sum\n",
        "primervalor = int(input(\"introduzca el valor 1:\"))\n",
        "segundovalor = int(input(\"introduzca el valor 2:\"))\n",
        "tercervalor = int(input(\"introduzca el valor 3: \"))\n",
        "print(sum(primervalor, segundovalor, tercervalor))"
      ],
      "execution_count": null,
      "outputs": [
        {
          "output_type": "stream",
          "name": "stdout",
          "text": [
            "introduzca el valor 1:3\n",
            "introduzca el valor 2:2\n",
            "introduzca el valor 3: 1\n",
            "6\n"
          ]
        }
      ]
    },
    {
      "cell_type": "markdown",
      "metadata": {
        "id": "k8bqsGo8a2b_"
      },
      "source": [
        "20. Write a Python function that takes a sequence of numbers and determines whether all the numbers are different from each other. "
      ]
    },
    {
      "cell_type": "code",
      "metadata": {
        "id": "dM4nLUMUa9yb"
      },
      "source": [
        "def test_distinct(data):\n",
        "  if len(data) == len(set(data)):\n",
        "    return True\n",
        "  else:\n",
        "    return False;\n",
        "\n",
        "print(test_distinct([1,5,7,9]))"
      ],
      "execution_count": null,
      "outputs": []
    },
    {
      "cell_type": "markdown",
      "metadata": {
        "id": "LtUn0iqwdKVT"
      },
      "source": [
        "21.Write a Python program to create all possible strings by using 'a', 'e', 'i', 'o', 'u'. Use the characters exactly once. \n"
      ]
    },
    {
      "cell_type": "code",
      "metadata": {
        "colab": {
          "base_uri": "https://localhost:8080/"
        },
        "id": "xdi9dQsxdOIs",
        "outputId": "336020f2-aa04-4290-a536-4723713ed497"
      },
      "source": [
        "import random\n",
        "char_list = ['a','e','i','o','u']\n",
        "random.shuffle(char_list)\n",
        "print(''.join(char_list))"
      ],
      "execution_count": null,
      "outputs": [
        {
          "output_type": "stream",
          "name": "stdout",
          "text": [
            "ieoau\n"
          ]
        }
      ]
    },
    {
      "cell_type": "markdown",
      "metadata": {
        "id": "CQjwmHODdohn"
      },
      "source": [
        "22.write a Python program to check the sum of three elements (each from an array) from three arrays is equal to a target value. Print all those three-element combinations. "
      ]
    },
    {
      "cell_type": "code",
      "metadata": {
        "id": "k8aA-ecKdskf"
      },
      "source": [
        "from functools import partial\n",
        "X = [10, 20, 20, 20]\n",
        "Y = [10, 20, 30, 40]\n",
        "Z = [10, 30, 40, 20]\n",
        "T = 70\n",
        "\n",
        "def check_sum_array(N, nums):\n",
        "  if sum(x for x in nums) == N:\n",
        "    return (True, nums)\n",
        "  else:\n",
        "      return (False, nums)\n",
        "      \n",
        "pro = itertools.product(X,Y,Z)\n",
        "func = partial(check_sum_array, T)\n",
        "sums = list(itertools.starmap(func, pro))\n",
        "\n",
        "result = set()\n",
        "for s in sums:\n",
        "    if s[0] == True and s[1] not in result:\n",
        "      result.add(s[1])\n",
        "      print(result)"
      ],
      "execution_count": null,
      "outputs": []
    },
    {
      "cell_type": "markdown",
      "metadata": {
        "id": "FEQR0hgWjVhR"
      },
      "source": [
        "23.Write a NumPy program to create an array of all the even integers from 30 to 70.  "
      ]
    },
    {
      "cell_type": "code",
      "metadata": {
        "colab": {
          "base_uri": "https://localhost:8080/"
        },
        "id": "WiWshkV6jbaS",
        "outputId": "30bf9f85-a9aa-4b46-ec09-edcd0d013536"
      },
      "source": [
        "import numpy as np\n",
        "array = np.arange(30,71,2)\n",
        "print(\"Resultado: \")\n",
        "print(array) "
      ],
      "execution_count": null,
      "outputs": [
        {
          "output_type": "stream",
          "name": "stdout",
          "text": [
            "Array of all the even integers from 30 to 70\n",
            "[30 32 34 36 38 40 42 44 46 48 50 52 54 56 58 60 62 64 66 68 70]\n"
          ]
        }
      ]
    },
    {
      "cell_type": "markdown",
      "metadata": {
        "id": "n_vVuLpvM1U9"
      },
      "source": [
        "24.Write a NumPy program to create a 3x3 identity matrix.  \n"
      ]
    },
    {
      "cell_type": "code",
      "metadata": {
        "colab": {
          "base_uri": "https://localhost:8080/"
        },
        "id": "b_Irrc7VM4lU",
        "outputId": "a464caae-6ad7-4d29-ef6c-de48c2285cfb"
      },
      "source": [
        "matrix=np.identity(3)\n",
        "print('3x3 matrix:')\n",
        "print(matrix)"
      ],
      "execution_count": null,
      "outputs": [
        {
          "output_type": "stream",
          "name": "stdout",
          "text": [
            "3x3 matrix:\n",
            "[[1. 0. 0.]\n",
            " [0. 1. 0.]\n",
            " [0. 0. 1.]]\n"
          ]
        }
      ]
    },
    {
      "cell_type": "markdown",
      "metadata": {
        "id": "I7OUFL55M84q"
      },
      "source": [
        "25.Write a NumPy program to generate a random number between 0 and 1.  \n"
      ]
    },
    {
      "cell_type": "code",
      "metadata": {
        "colab": {
          "base_uri": "https://localhost:8080/"
        },
        "id": "2g8BaBiJNATg",
        "outputId": "39be9f74-edbb-4345-d015-a3f990d1e8c6"
      },
      "source": [
        "rand_num = np.random.normal(0,1,1)\n",
        "print(\"El valor random sera: \")\n",
        "print(rand_num)"
      ],
      "execution_count": null,
      "outputs": [
        {
          "output_type": "stream",
          "name": "stdout",
          "text": [
            "Random number between 0 and 1:\n",
            "[-0.79935519]\n"
          ]
        }
      ]
    },
    {
      "cell_type": "markdown",
      "metadata": {
        "id": "jAH9ghLqNnqX"
      },
      "source": [
        "26.Write a NumPy program to generate an array of 15 random numbers from a standard normal distribution.  \n"
      ]
    },
    {
      "cell_type": "code",
      "metadata": {
        "colab": {
          "base_uri": "https://localhost:8080/"
        },
        "id": "uWzf6jz-NsG0",
        "outputId": "3b435e49-a610-4ba3-99a2-bc14f39d7369"
      },
      "source": [
        "rand_num = np.random.normal(0,1,15)\n",
        "print(\"El arreglo estara conformado de: \")\n",
        "print(rand_num)"
      ],
      "execution_count": null,
      "outputs": [
        {
          "output_type": "stream",
          "name": "stdout",
          "text": [
            "El arreglo estara conformado de: \n",
            "[ 0.90020903 -0.10179557 -0.36178909  1.08997562 -1.34314078 -1.62746666\n",
            " -0.13669836 -1.05831681  1.3866888  -0.13797451 -0.75961217  0.25440995\n",
            "  0.40014947 -1.92084615  1.56228078]\n"
          ]
        }
      ]
    },
    {
      "cell_type": "markdown",
      "metadata": {
        "id": "lQjoJWCmN6Ri"
      },
      "source": [
        "27.Write a NumPy program to create a vector with values ranging from 15 to 55 and print all values except the first and last.\n"
      ]
    },
    {
      "cell_type": "code",
      "metadata": {
        "colab": {
          "base_uri": "https://localhost:8080/"
        },
        "id": "3a1IsvWDN9EL",
        "outputId": "9fca94f5-dc0d-451e-8129-5ab0bdf115de"
      },
      "source": [
        "v = np.arange(15,55)\n",
        "print(\"vector inicial:\")\n",
        "print(v)\n",
        "print(\"Vector sin el primer y ultimo valor: \")\n",
        "print(v[1:-1])"
      ],
      "execution_count": null,
      "outputs": [
        {
          "output_type": "stream",
          "name": "stdout",
          "text": [
            "vector inicial:\n",
            "[15 16 17 18 19 20 21 22 23 24 25 26 27 28 29 30 31 32 33 34 35 36 37 38\n",
            " 39 40 41 42 43 44 45 46 47 48 49 50 51 52 53 54]\n",
            "Vector sin el primer y ultimo valor: \n",
            "[16 17 18 19 20 21 22 23 24 25 26 27 28 29 30 31 32 33 34 35 36 37 38 39\n",
            " 40 41 42 43 44 45 46 47 48 49 50 51 52 53]\n"
          ]
        }
      ]
    },
    {
      "cell_type": "markdown",
      "metadata": {
        "id": "WHCAHsSaOij0"
      },
      "source": [
        "28.write a Python program which solve the equation: "
      ]
    },
    {
      "cell_type": "code",
      "metadata": {
        "colab": {
          "base_uri": "https://localhost:8080/"
        },
        "id": "9TSwwNrwOnQc",
        "outputId": "d9e24fb9-a94d-44fe-d5a6-5d7eb18534ef"
      },
      "source": [
        "print(\"Input the value of a, b, c, d, e, f:\")\n",
        "a, b, c, d, e, f = map(float, input().split())\n",
        "n = a*e - b*d\n",
        "print(\"Values of x and y:\")\n",
        "if n != 0:\n",
        "    x = (c*e - b*f) / n\n",
        "    y = (a*f - c*d) / n\n",
        "    print('{:.3f} {:.3f}'.format(x+0, y+0))"
      ],
      "execution_count": null,
      "outputs": [
        {
          "output_type": "stream",
          "name": "stdout",
          "text": [
            "Input the value of a, b, c, d, e, f:\n",
            "1 2 3 4 5 6\n",
            "Values of x and y:\n",
            "-1.000 2.000\n"
          ]
        }
      ]
    },
    {
      "cell_type": "markdown",
      "metadata": {
        "id": "BaU3c7jpO5r7"
      },
      "source": [
        "29. Write a Python program to compute the amount of the debt in n months. The borrowing amount is $100,000 and the loan adds 5% interest of the debt and rounds it to the nearest 1,000 above month by month. "
      ]
    },
    {
      "cell_type": "code",
      "metadata": {
        "colab": {
          "base_uri": "https://localhost:8080/"
        },
        "id": "yiLmSSiQO9GO",
        "outputId": "d504d21b-fa8a-447c-c360-2c0eef1d33f1"
      },
      "source": [
        "def round_n(n):\n",
        "    if n%1000:\n",
        "        return (1+n//1000)*1000\n",
        "    else:\n",
        "        return n\n",
        "def compute_debt(n):\n",
        "    if n==0: return 100000\n",
        "    return int(round_n(compute_debt(n-1)*1.05))\n",
        "\n",
        "print(\"Cantidad de mese\")\n",
        "result = compute_debt(int(input()))\n",
        "print(\"Amount of debt: \",\"$\"+str(result).strip())"
      ],
      "execution_count": null,
      "outputs": [
        {
          "output_type": "stream",
          "name": "stdout",
          "text": [
            "Input number of months:\n",
            "4\n",
            "Amount of debt:  $123000\n"
          ]
        }
      ]
    },
    {
      "cell_type": "markdown",
      "metadata": {
        "id": "hfIz_1E6Pm85"
      },
      "source": [
        "30. Write a Python function to print the number of prime numbers which are less than or equal to a given integer.  \n"
      ]
    },
    {
      "cell_type": "code",
      "metadata": {
        "colab": {
          "base_uri": "https://localhost:8080/"
        },
        "id": "qrMTf98vQhi1",
        "outputId": "c531b823-fa17-40cb-f545-0eae0463a1bc"
      },
      "source": [
        "primes = [1] * 500000\n",
        "primes[0] = 0\n",
        " \n",
        "for i in range(3, 1000, 2):\n",
        "    if primes[i // 2]:\n",
        "        primes[(i * i) // 2::i] = [0] * len(primes[(i * i) // 2::i])\n",
        " \n",
        "print(\"Introduzca el valor :\")\n",
        "n=int(input())\n",
        "if n < 4:\n",
        "    print(\"Numero primos que son menor o igual que el valor dado\",n - 1)\n",
        "else:\n",
        "    print(\"Numero primos que son menor o igual que el valor dado\",sum(primes[:(n + 1) // 2]) + 1)"
      ],
      "execution_count": null,
      "outputs": [
        {
          "output_type": "stream",
          "name": "stdout",
          "text": [
            "Introduzca el valor :\n",
            "5\n",
            "Numero primos que son menor o igual que el valor dado 3\n"
          ]
        }
      ]
    },
    {
      "cell_type": "markdown",
      "metadata": {
        "id": "gas4ckHgV4aD"
      },
      "source": []
    },
    {
      "cell_type": "code",
      "metadata": {
        "id": "Z3ooUl2VqmFF"
      },
      "source": [],
      "execution_count": null,
      "outputs": []
    }
  ]
}